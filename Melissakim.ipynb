{
 "cells": [
  {
   "cell_type": "markdown",
   "id": "947519a0-1706-496b-bdeb-d3e946745a77",
   "metadata": {},
   "source": [
    "TITLE: Predicting whether fasting blood sugar level is higher than 120mg in an individual using age and serum cholestrol levels."
   ]
  },
  {
   "cell_type": "markdown",
   "id": "4d5752ae-2402-409d-89c5-e90adc2ed79d",
   "metadata": {},
   "source": [
    "My topic is on predicting whether a person has fasting blood sugar higher than 120mg using the variables age and serum cholestrol. Therefore, my question is \"can age and serum cholestrol predict whether an individual has a fasting blood sugar level higher than 120mg/dL using the Cleveland database?\". "
   ]
  },
  {
   "cell_type": "code",
   "execution_count": 2,
   "id": "b5c3e0cf-d68b-4ce1-9b9f-415bb6dea2dd",
   "metadata": {
    "scrolled": true
   },
   "outputs": [
    {
     "name": "stderr",
     "output_type": "stream",
     "text": [
      "── \u001b[1mAttaching core tidyverse packages\u001b[22m ──────────────────────── tidyverse 2.0.0 ──\n",
      "\u001b[32m✔\u001b[39m \u001b[34mforcats  \u001b[39m 1.0.0     \u001b[32m✔\u001b[39m \u001b[34mreadr    \u001b[39m 2.1.4\n",
      "\u001b[32m✔\u001b[39m \u001b[34mlubridate\u001b[39m 1.9.2     \u001b[32m✔\u001b[39m \u001b[34mstringr  \u001b[39m 1.5.0\n",
      "── \u001b[1mConflicts\u001b[22m ────────────────────────────────────────── tidyverse_conflicts() ──\n",
      "\u001b[31m✖\u001b[39m \u001b[34mreadr\u001b[39m::\u001b[32mcol_factor()\u001b[39m masks \u001b[34mscales\u001b[39m::col_factor()\n",
      "\u001b[31m✖\u001b[39m \u001b[34mpurrr\u001b[39m::\u001b[32mdiscard()\u001b[39m    masks \u001b[34mscales\u001b[39m::discard()\n",
      "\u001b[31m✖\u001b[39m \u001b[34mdplyr\u001b[39m::\u001b[32mfilter()\u001b[39m     masks \u001b[34mstats\u001b[39m::filter()\n",
      "\u001b[31m✖\u001b[39m \u001b[34mstringr\u001b[39m::\u001b[32mfixed()\u001b[39m    masks \u001b[34mrecipes\u001b[39m::fixed()\n",
      "\u001b[31m✖\u001b[39m \u001b[34mdplyr\u001b[39m::\u001b[32mlag()\u001b[39m        masks \u001b[34mstats\u001b[39m::lag()\n",
      "\u001b[31m✖\u001b[39m \u001b[34mreadr\u001b[39m::\u001b[32mspec()\u001b[39m       masks \u001b[34myardstick\u001b[39m::spec()\n",
      "\u001b[36mℹ\u001b[39m Use the conflicted package (\u001b[3m\u001b[34m<http://conflicted.r-lib.org/>\u001b[39m\u001b[23m) to force all conflicts to become errors\n",
      "Warning message:\n",
      "“package ‘cowplot’ was built under R version 4.3.2”\n",
      "\n",
      "Attaching package: ‘cowplot’\n",
      "\n",
      "\n",
      "The following object is masked from ‘package:lubridate’:\n",
      "\n",
      "    stamp\n",
      "\n",
      "\n"
     ]
    }
   ],
   "source": [
    "library(tidyverse)\n",
    "library(cowplot)\n",
    "library(scales)\n",
    "library(readr)\n",
    "library(repr)\n",
    "library(tidymodels)"
   ]
  },
  {
   "cell_type": "markdown",
   "id": "b4ddea24-d040-4752-941f-c18ae75c8110",
   "metadata": {},
   "source": [
    "First, I load the data using the shortest relative path and correct read_* function by looking at the separator \",\" in the cleveland data folder. Headers do not exist, thus I have to indicate that col_names = FALSE. "
   ]
  },
  {
   "cell_type": "code",
   "execution_count": 3,
   "id": "0422c394-bce8-4412-bc6e-467fad2ebdbe",
   "metadata": {},
   "outputs": [
    {
     "name": "stderr",
     "output_type": "stream",
     "text": [
      "\u001b[1mRows: \u001b[22m\u001b[34m303\u001b[39m \u001b[1mColumns: \u001b[22m\u001b[34m14\u001b[39m\n",
      "\u001b[36m──\u001b[39m \u001b[1mColumn specification\u001b[22m \u001b[36m────────────────────────────────────────────────────────\u001b[39m\n",
      "\u001b[1mDelimiter:\u001b[22m \",\"\n",
      "\u001b[31mchr\u001b[39m  (2): X12, X13\n",
      "\u001b[32mdbl\u001b[39m (12): X1, X2, X3, X4, X5, X6, X7, X8, X9, X10, X11, X14\n",
      "\n",
      "\u001b[36mℹ\u001b[39m Use `spec()` to retrieve the full column specification for this data.\n",
      "\u001b[36mℹ\u001b[39m Specify the column types or set `show_col_types = FALSE` to quiet this message.\n"
     ]
    },
    {
     "data": {
      "text/html": [
       "<table class=\"dataframe\">\n",
       "<caption>A tibble: 6 × 14</caption>\n",
       "<thead>\n",
       "\t<tr><th scope=col>X1</th><th scope=col>X2</th><th scope=col>X3</th><th scope=col>X4</th><th scope=col>X5</th><th scope=col>X6</th><th scope=col>X7</th><th scope=col>X8</th><th scope=col>X9</th><th scope=col>X10</th><th scope=col>X11</th><th scope=col>X12</th><th scope=col>X13</th><th scope=col>X14</th></tr>\n",
       "\t<tr><th scope=col>&lt;dbl&gt;</th><th scope=col>&lt;dbl&gt;</th><th scope=col>&lt;dbl&gt;</th><th scope=col>&lt;dbl&gt;</th><th scope=col>&lt;dbl&gt;</th><th scope=col>&lt;dbl&gt;</th><th scope=col>&lt;dbl&gt;</th><th scope=col>&lt;dbl&gt;</th><th scope=col>&lt;dbl&gt;</th><th scope=col>&lt;dbl&gt;</th><th scope=col>&lt;dbl&gt;</th><th scope=col>&lt;chr&gt;</th><th scope=col>&lt;chr&gt;</th><th scope=col>&lt;dbl&gt;</th></tr>\n",
       "</thead>\n",
       "<tbody>\n",
       "\t<tr><td>63</td><td>1</td><td>1</td><td>145</td><td>233</td><td>1</td><td>2</td><td>150</td><td>0</td><td>2.3</td><td>3</td><td>0.0</td><td>6.0</td><td>0</td></tr>\n",
       "\t<tr><td>67</td><td>1</td><td>4</td><td>160</td><td>286</td><td>0</td><td>2</td><td>108</td><td>1</td><td>1.5</td><td>2</td><td>3.0</td><td>3.0</td><td>2</td></tr>\n",
       "\t<tr><td>67</td><td>1</td><td>4</td><td>120</td><td>229</td><td>0</td><td>2</td><td>129</td><td>1</td><td>2.6</td><td>2</td><td>2.0</td><td>7.0</td><td>1</td></tr>\n",
       "\t<tr><td>37</td><td>1</td><td>3</td><td>130</td><td>250</td><td>0</td><td>0</td><td>187</td><td>0</td><td>3.5</td><td>3</td><td>0.0</td><td>3.0</td><td>0</td></tr>\n",
       "\t<tr><td>41</td><td>0</td><td>2</td><td>130</td><td>204</td><td>0</td><td>2</td><td>172</td><td>0</td><td>1.4</td><td>1</td><td>0.0</td><td>3.0</td><td>0</td></tr>\n",
       "\t<tr><td>56</td><td>1</td><td>2</td><td>120</td><td>236</td><td>0</td><td>0</td><td>178</td><td>0</td><td>0.8</td><td>1</td><td>0.0</td><td>3.0</td><td>0</td></tr>\n",
       "</tbody>\n",
       "</table>\n"
      ],
      "text/latex": [
       "A tibble: 6 × 14\n",
       "\\begin{tabular}{llllllllllllll}\n",
       " X1 & X2 & X3 & X4 & X5 & X6 & X7 & X8 & X9 & X10 & X11 & X12 & X13 & X14\\\\\n",
       " <dbl> & <dbl> & <dbl> & <dbl> & <dbl> & <dbl> & <dbl> & <dbl> & <dbl> & <dbl> & <dbl> & <chr> & <chr> & <dbl>\\\\\n",
       "\\hline\n",
       "\t 63 & 1 & 1 & 145 & 233 & 1 & 2 & 150 & 0 & 2.3 & 3 & 0.0 & 6.0 & 0\\\\\n",
       "\t 67 & 1 & 4 & 160 & 286 & 0 & 2 & 108 & 1 & 1.5 & 2 & 3.0 & 3.0 & 2\\\\\n",
       "\t 67 & 1 & 4 & 120 & 229 & 0 & 2 & 129 & 1 & 2.6 & 2 & 2.0 & 7.0 & 1\\\\\n",
       "\t 37 & 1 & 3 & 130 & 250 & 0 & 0 & 187 & 0 & 3.5 & 3 & 0.0 & 3.0 & 0\\\\\n",
       "\t 41 & 0 & 2 & 130 & 204 & 0 & 2 & 172 & 0 & 1.4 & 1 & 0.0 & 3.0 & 0\\\\\n",
       "\t 56 & 1 & 2 & 120 & 236 & 0 & 0 & 178 & 0 & 0.8 & 1 & 0.0 & 3.0 & 0\\\\\n",
       "\\end{tabular}\n"
      ],
      "text/markdown": [
       "\n",
       "A tibble: 6 × 14\n",
       "\n",
       "| X1 &lt;dbl&gt; | X2 &lt;dbl&gt; | X3 &lt;dbl&gt; | X4 &lt;dbl&gt; | X5 &lt;dbl&gt; | X6 &lt;dbl&gt; | X7 &lt;dbl&gt; | X8 &lt;dbl&gt; | X9 &lt;dbl&gt; | X10 &lt;dbl&gt; | X11 &lt;dbl&gt; | X12 &lt;chr&gt; | X13 &lt;chr&gt; | X14 &lt;dbl&gt; |\n",
       "|---|---|---|---|---|---|---|---|---|---|---|---|---|---|\n",
       "| 63 | 1 | 1 | 145 | 233 | 1 | 2 | 150 | 0 | 2.3 | 3 | 0.0 | 6.0 | 0 |\n",
       "| 67 | 1 | 4 | 160 | 286 | 0 | 2 | 108 | 1 | 1.5 | 2 | 3.0 | 3.0 | 2 |\n",
       "| 67 | 1 | 4 | 120 | 229 | 0 | 2 | 129 | 1 | 2.6 | 2 | 2.0 | 7.0 | 1 |\n",
       "| 37 | 1 | 3 | 130 | 250 | 0 | 0 | 187 | 0 | 3.5 | 3 | 0.0 | 3.0 | 0 |\n",
       "| 41 | 0 | 2 | 130 | 204 | 0 | 2 | 172 | 0 | 1.4 | 1 | 0.0 | 3.0 | 0 |\n",
       "| 56 | 1 | 2 | 120 | 236 | 0 | 0 | 178 | 0 | 0.8 | 1 | 0.0 | 3.0 | 0 |\n",
       "\n"
      ],
      "text/plain": [
       "  X1 X2 X3 X4  X5  X6 X7 X8  X9 X10 X11 X12 X13 X14\n",
       "1 63 1  1  145 233 1  2  150 0  2.3 3   0.0 6.0 0  \n",
       "2 67 1  4  160 286 0  2  108 1  1.5 2   3.0 3.0 2  \n",
       "3 67 1  4  120 229 0  2  129 1  2.6 2   2.0 7.0 1  \n",
       "4 37 1  3  130 250 0  0  187 0  3.5 3   0.0 3.0 0  \n",
       "5 41 0  2  130 204 0  2  172 0  1.4 1   0.0 3.0 0  \n",
       "6 56 1  2  120 236 0  0  178 0  0.8 1   0.0 3.0 0  "
      ]
     },
     "metadata": {},
     "output_type": "display_data"
    }
   ],
   "source": [
    "training_data <- read_csv(\"data/heart_disease/processed.cleveland.data\", col_names = FALSE)\n",
    "head(training_data)"
   ]
  },
  {
   "cell_type": "markdown",
   "id": "6ff290cb-3889-4cb7-b603-896ac7c9b4d8",
   "metadata": {},
   "source": [
    "Secondly, I rename the columns X1, X5, X6 to \"age\", \"cholestoral\", and \"fasting_blood_sugar\". Then, I select the three renamed columns and filter the ages over 55 because I only want to use individuals ages 55 and up. Finally, I used the mutate the fasting_blood_sugar column such that it is a factor using 'as_factor()."
   ]
  },
  {
   "cell_type": "code",
   "execution_count": 4,
   "id": "dce52ee9-ba13-46dc-bcab-03ea45a04212",
   "metadata": {},
   "outputs": [
    {
     "data": {
      "text/html": [
       "<table class=\"dataframe\">\n",
       "<caption>A tibble: 6 × 3</caption>\n",
       "<thead>\n",
       "\t<tr><th scope=col>fasting_blood_sugar</th><th scope=col>cholestoral</th><th scope=col>age</th></tr>\n",
       "\t<tr><th scope=col>&lt;fct&gt;</th><th scope=col>&lt;dbl&gt;</th><th scope=col>&lt;dbl&gt;</th></tr>\n",
       "</thead>\n",
       "<tbody>\n",
       "\t<tr><td>1</td><td>233</td><td>63</td></tr>\n",
       "\t<tr><td>0</td><td>286</td><td>67</td></tr>\n",
       "\t<tr><td>0</td><td>229</td><td>67</td></tr>\n",
       "\t<tr><td>0</td><td>236</td><td>56</td></tr>\n",
       "\t<tr><td>0</td><td>268</td><td>62</td></tr>\n",
       "\t<tr><td>0</td><td>354</td><td>57</td></tr>\n",
       "</tbody>\n",
       "</table>\n"
      ],
      "text/latex": [
       "A tibble: 6 × 3\n",
       "\\begin{tabular}{lll}\n",
       " fasting\\_blood\\_sugar & cholestoral & age\\\\\n",
       " <fct> & <dbl> & <dbl>\\\\\n",
       "\\hline\n",
       "\t 1 & 233 & 63\\\\\n",
       "\t 0 & 286 & 67\\\\\n",
       "\t 0 & 229 & 67\\\\\n",
       "\t 0 & 236 & 56\\\\\n",
       "\t 0 & 268 & 62\\\\\n",
       "\t 0 & 354 & 57\\\\\n",
       "\\end{tabular}\n"
      ],
      "text/markdown": [
       "\n",
       "A tibble: 6 × 3\n",
       "\n",
       "| fasting_blood_sugar &lt;fct&gt; | cholestoral &lt;dbl&gt; | age &lt;dbl&gt; |\n",
       "|---|---|---|\n",
       "| 1 | 233 | 63 |\n",
       "| 0 | 286 | 67 |\n",
       "| 0 | 229 | 67 |\n",
       "| 0 | 236 | 56 |\n",
       "| 0 | 268 | 62 |\n",
       "| 0 | 354 | 57 |\n",
       "\n"
      ],
      "text/plain": [
       "  fasting_blood_sugar cholestoral age\n",
       "1 1                   233         63 \n",
       "2 0                   286         67 \n",
       "3 0                   229         67 \n",
       "4 0                   236         56 \n",
       "5 0                   268         62 \n",
       "6 0                   354         57 "
      ]
     },
     "metadata": {},
     "output_type": "display_data"
    }
   ],
   "source": [
    "selected_data <- training_data |>\n",
    "    rename(age = X1, cholestoral = X5, fasting_blood_sugar = X6) |>\n",
    "     select(fasting_blood_sugar, cholestoral, age) |>\n",
    "    filter(age > 55) |>\n",
    "    mutate(fasting_blood_sugar = as_factor(fasting_blood_sugar)) \n",
    "head(selected_data)"
   ]
  },
  {
   "cell_type": "markdown",
   "id": "354b3e4f-3d44-48cc-a957-86b7045775a1",
   "metadata": {},
   "source": [
    "I then mutate the variable names in the fasting_blood_sugar column to make it more clear. I recode the variable's name to \"over\" from \"1\" to indicate that blood sugar level is over 120mg/dL and \"below\" from \"0\" to indicate blood sugar level lower than 120mg/dL using the mutate function. "
   ]
  },
  {
   "cell_type": "code",
   "execution_count": 5,
   "id": "66b47f01-7cce-4129-b7b8-6b22be4d5a14",
   "metadata": {},
   "outputs": [
    {
     "data": {
      "text/html": [
       "<table class=\"dataframe\">\n",
       "<caption>A tibble: 6 × 3</caption>\n",
       "<thead>\n",
       "\t<tr><th scope=col>fasting_blood_sugar</th><th scope=col>cholestoral</th><th scope=col>age</th></tr>\n",
       "\t<tr><th scope=col>&lt;fct&gt;</th><th scope=col>&lt;dbl&gt;</th><th scope=col>&lt;dbl&gt;</th></tr>\n",
       "</thead>\n",
       "<tbody>\n",
       "\t<tr><td>over </td><td>233</td><td>63</td></tr>\n",
       "\t<tr><td>below</td><td>286</td><td>67</td></tr>\n",
       "\t<tr><td>below</td><td>229</td><td>67</td></tr>\n",
       "\t<tr><td>below</td><td>236</td><td>56</td></tr>\n",
       "\t<tr><td>below</td><td>268</td><td>62</td></tr>\n",
       "\t<tr><td>below</td><td>354</td><td>57</td></tr>\n",
       "</tbody>\n",
       "</table>\n"
      ],
      "text/latex": [
       "A tibble: 6 × 3\n",
       "\\begin{tabular}{lll}\n",
       " fasting\\_blood\\_sugar & cholestoral & age\\\\\n",
       " <fct> & <dbl> & <dbl>\\\\\n",
       "\\hline\n",
       "\t over  & 233 & 63\\\\\n",
       "\t below & 286 & 67\\\\\n",
       "\t below & 229 & 67\\\\\n",
       "\t below & 236 & 56\\\\\n",
       "\t below & 268 & 62\\\\\n",
       "\t below & 354 & 57\\\\\n",
       "\\end{tabular}\n"
      ],
      "text/markdown": [
       "\n",
       "A tibble: 6 × 3\n",
       "\n",
       "| fasting_blood_sugar &lt;fct&gt; | cholestoral &lt;dbl&gt; | age &lt;dbl&gt; |\n",
       "|---|---|---|\n",
       "| over  | 233 | 63 |\n",
       "| below | 286 | 67 |\n",
       "| below | 229 | 67 |\n",
       "| below | 236 | 56 |\n",
       "| below | 268 | 62 |\n",
       "| below | 354 | 57 |\n",
       "\n"
      ],
      "text/plain": [
       "  fasting_blood_sugar cholestoral age\n",
       "1 over                233         63 \n",
       "2 below               286         67 \n",
       "3 below               229         67 \n",
       "4 below               236         56 \n",
       "5 below               268         62 \n",
       "6 below               354         57 "
      ]
     },
     "metadata": {},
     "output_type": "display_data"
    }
   ],
   "source": [
    "mutated_data <- selected_data |>\n",
    "    mutate(fasting_blood_sugar = recode(fasting_blood_sugar, `1` = \"over\", `0` = \"below\"))\n",
    "head(mutated_data)"
   ]
  },
  {
   "cell_type": "code",
   "execution_count": 6,
   "id": "28c9a45a-e026-499e-af19-73ab6347dd87",
   "metadata": {},
   "outputs": [
    {
     "data": {
      "text/html": [
       "<table class=\"dataframe\">\n",
       "<caption>A tibble: 6 × 3</caption>\n",
       "<thead>\n",
       "\t<tr><th scope=col>fasting_blood_sugar</th><th scope=col>cholestoral</th><th scope=col>age</th></tr>\n",
       "\t<tr><th scope=col>&lt;fct&gt;</th><th scope=col>&lt;dbl&gt;</th><th scope=col>&lt;dbl&gt;</th></tr>\n",
       "</thead>\n",
       "<tbody>\n",
       "\t<tr><td>over </td><td>233</td><td>63</td></tr>\n",
       "\t<tr><td>below</td><td>286</td><td>67</td></tr>\n",
       "\t<tr><td>below</td><td>229</td><td>67</td></tr>\n",
       "\t<tr><td>below</td><td>236</td><td>56</td></tr>\n",
       "\t<tr><td>below</td><td>268</td><td>62</td></tr>\n",
       "\t<tr><td>below</td><td>354</td><td>57</td></tr>\n",
       "</tbody>\n",
       "</table>\n"
      ],
      "text/latex": [
       "A tibble: 6 × 3\n",
       "\\begin{tabular}{lll}\n",
       " fasting\\_blood\\_sugar & cholestoral & age\\\\\n",
       " <fct> & <dbl> & <dbl>\\\\\n",
       "\\hline\n",
       "\t over  & 233 & 63\\\\\n",
       "\t below & 286 & 67\\\\\n",
       "\t below & 229 & 67\\\\\n",
       "\t below & 236 & 56\\\\\n",
       "\t below & 268 & 62\\\\\n",
       "\t below & 354 & 57\\\\\n",
       "\\end{tabular}\n"
      ],
      "text/markdown": [
       "\n",
       "A tibble: 6 × 3\n",
       "\n",
       "| fasting_blood_sugar &lt;fct&gt; | cholestoral &lt;dbl&gt; | age &lt;dbl&gt; |\n",
       "|---|---|---|\n",
       "| over  | 233 | 63 |\n",
       "| below | 286 | 67 |\n",
       "| below | 229 | 67 |\n",
       "| below | 236 | 56 |\n",
       "| below | 268 | 62 |\n",
       "| below | 354 | 57 |\n",
       "\n"
      ],
      "text/plain": [
       "  fasting_blood_sugar cholestoral age\n",
       "1 over                233         63 \n",
       "2 below               286         67 \n",
       "3 below               229         67 \n",
       "4 below               236         56 \n",
       "5 below               268         62 \n",
       "6 below               354         57 "
      ]
     },
     "metadata": {},
     "output_type": "display_data"
    }
   ],
   "source": [
    "new_data <- mutated_data |> drop_na ()\n",
    "head(new_data)"
   ]
  },
  {
   "cell_type": "code",
   "execution_count": 7,
   "id": "2976eef3-3db5-4fff-88ca-2e06bafe269f",
   "metadata": {},
   "outputs": [
    {
     "data": {
      "text/html": [
       "<table class=\"dataframe\">\n",
       "<caption>A tibble: 6 × 3</caption>\n",
       "<thead>\n",
       "\t<tr><th scope=col>fasting_blood_sugar</th><th scope=col>cholestoral</th><th scope=col>age</th></tr>\n",
       "\t<tr><th scope=col>&lt;fct&gt;</th><th scope=col>&lt;dbl&gt;</th><th scope=col>&lt;dbl&gt;</th></tr>\n",
       "</thead>\n",
       "<tbody>\n",
       "\t<tr><td>below</td><td>229</td><td>67</td></tr>\n",
       "\t<tr><td>below</td><td>268</td><td>62</td></tr>\n",
       "\t<tr><td>below</td><td>354</td><td>57</td></tr>\n",
       "\t<tr><td>below</td><td>254</td><td>63</td></tr>\n",
       "\t<tr><td>below</td><td>192</td><td>57</td></tr>\n",
       "\t<tr><td>below</td><td>294</td><td>56</td></tr>\n",
       "</tbody>\n",
       "</table>\n"
      ],
      "text/latex": [
       "A tibble: 6 × 3\n",
       "\\begin{tabular}{lll}\n",
       " fasting\\_blood\\_sugar & cholestoral & age\\\\\n",
       " <fct> & <dbl> & <dbl>\\\\\n",
       "\\hline\n",
       "\t below & 229 & 67\\\\\n",
       "\t below & 268 & 62\\\\\n",
       "\t below & 354 & 57\\\\\n",
       "\t below & 254 & 63\\\\\n",
       "\t below & 192 & 57\\\\\n",
       "\t below & 294 & 56\\\\\n",
       "\\end{tabular}\n"
      ],
      "text/markdown": [
       "\n",
       "A tibble: 6 × 3\n",
       "\n",
       "| fasting_blood_sugar &lt;fct&gt; | cholestoral &lt;dbl&gt; | age &lt;dbl&gt; |\n",
       "|---|---|---|\n",
       "| below | 229 | 67 |\n",
       "| below | 268 | 62 |\n",
       "| below | 354 | 57 |\n",
       "| below | 254 | 63 |\n",
       "| below | 192 | 57 |\n",
       "| below | 294 | 56 |\n",
       "\n"
      ],
      "text/plain": [
       "  fasting_blood_sugar cholestoral age\n",
       "1 below               229         67 \n",
       "2 below               268         62 \n",
       "3 below               354         57 \n",
       "4 below               254         63 \n",
       "5 below               192         57 \n",
       "6 below               294         56 "
      ]
     },
     "metadata": {},
     "output_type": "display_data"
    }
   ],
   "source": [
    "\n",
    "set.seed(3456) \n",
    "cleveland_split <- initial_split(new_data, prop = 0.75, strata = fasting_blood_sugar)  \n",
    "cleveland_train<- training(cleveland_split)   \n",
    "cleveland_test<- testing(cleveland_split)\n",
    "\n",
    "head(cleveland_train)\n"
   ]
  },
  {
   "cell_type": "code",
   "execution_count": null,
   "id": "5ec289ac-3f81-403e-b850-dec95cc6b732",
   "metadata": {},
   "outputs": [],
   "source": []
  }
 ],
 "metadata": {
  "kernelspec": {
   "display_name": "R",
   "language": "R",
   "name": "ir"
  },
  "language_info": {
   "codemirror_mode": "r",
   "file_extension": ".r",
   "mimetype": "text/x-r-source",
   "name": "R",
   "pygments_lexer": "r",
   "version": "4.3.1"
  }
 },
 "nbformat": 4,
 "nbformat_minor": 5
}
